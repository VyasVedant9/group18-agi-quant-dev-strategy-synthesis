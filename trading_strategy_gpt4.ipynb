{
 "cells": [
  {
   "cell_type": "markdown",
   "metadata": {},
   "source": [
    "\n",
    "Model Used: ChatGPT-4o\n",
    "\n",
    "\n",
    "Prompt: \n",
    "\n",
    "Fed the whole CSV to ChatGPT and then the following prompt\n",
    "\n",
    "Task:\n",
    "Write Python code that builds a trading strategy to predict stock prices for the next 1 week using historical stock data. Use machine learning techniques to forecast future prices and make buy/sell/hold recommendations.\n",
    "\n",
    "Instructions:\n",
    "\n",
    "Use pandas to load and process the historical stock data (assume it's in CSV format).\n",
    "\n",
    "Engineer useful features (e.g., moving averages, RSI, volume changes).\n",
    "\n",
    "Split the data into training and testing sets.\n",
    "\n",
    "Use a suitable regression model (e.g., RandomForestRegressor, XGBoost, or LSTM).\n",
    "\n",
    "Train the model to predict the stock's price 5 trading days (1 week) into the future.\n",
    "\n",
    "Include logic to evaluate model performance (e.g., RMSE, MAE).\n",
    "\n",
    "Build simple logic for a trading strategy:\n",
    "\n",
    "If predicted price is significantly higher than current → Buy\n",
    "\n",
    "If predicted price is significantly lower → Sell\n",
    "\n",
    "Else → Hold\n",
    "\n",
    "Include a main() function that loads sample data, runs the pipeline, and outputs prediction and recommendation.\n",
    "\n",
    "Constraints:\n",
    "\n",
    "Use public Python packages only (sklearn, pandas, numpy, matplotlib, etc.).\n",
    "\n",
    "Keep it modular with reusable functions.\n",
    "\n",
    "Include inline comments for clarity.\n",
    "\n",
    "Assume the CSV has columns: Date, Open, High, Low, Close, Volume.\n",
    "\n",
    "the csv is stored in OHLCV_AAPL.csv \n",
    "\n",
    "Format:\n",
    "Return only the Python code with effective comments explaining the code blocks \n",
    "\n",
    "    "
   ]
  },
  {
   "cell_type": "code",
   "execution_count": 1,
   "metadata": {},
   "outputs": [],
   "source": [
    "import pandas as pd\n",
    "import numpy as np\n",
    "from sklearn.ensemble import RandomForestRegressor\n",
    "from sklearn.metrics import mean_squared_error, mean_absolute_error\n",
    "from sklearn.model_selection import train_test_split\n",
    "from sklearn.preprocessing import StandardScaler\n",
    "import matplotlib.pyplot as plt"
   ]
  },
  {
   "cell_type": "code",
   "execution_count": 2,
   "metadata": {},
   "outputs": [],
   "source": [
    "# Function to load and preprocess the data\n",
    "def load_data(filepath):\n",
    "    df = pd.read_csv(filepath, parse_dates=['Date'])\n",
    "    df.sort_values('Date', inplace=True)\n",
    "    df.reset_index(drop=True, inplace=True)\n",
    "    return df"
   ]
  },
  {
   "cell_type": "code",
   "execution_count": 3,
   "metadata": {},
   "outputs": [],
   "source": [
    "# Feature engineering: moving averages, RSI, and volume change\n",
    "def add_features(df):\n",
    "    df['MA_5'] = df['Close'].rolling(window=5).mean()\n",
    "    df['MA_10'] = df['Close'].rolling(window=10).mean()\n",
    "    df['MA_20'] = df['Close'].rolling(window=20).mean()\n",
    "\n",
    "    delta = df['Close'].diff()\n",
    "    gain = (delta.where(delta > 0, 0)).rolling(window=14).mean()\n",
    "    loss = (-delta.where(delta < 0, 0)).rolling(window=14).mean()\n",
    "    rs = gain / loss\n",
    "    df['RSI'] = 100 - (100 / (1 + rs))\n",
    "\n",
    "    df['Volume_Change'] = df['Volume'].pct_change()\n",
    "\n",
    "    # Target: predict the Close price 5 days into the future\n",
    "    df['Target'] = df['Close'].shift(-5)\n",
    "\n",
    "    df.dropna(inplace=True)  # Drop rows with NaNs created by rolling/shift\n",
    "    return df"
   ]
  },
  {
   "cell_type": "code",
   "execution_count": 4,
   "metadata": {},
   "outputs": [],
   "source": [
    "# Train/test split and scaling\n",
    "def prepare_data(df):\n",
    "    features = ['Open', 'High', 'Low', 'Close', 'Volume', 'MA_5', 'MA_10', 'MA_20', 'RSI', 'Volume_Change']\n",
    "    X = df[features]\n",
    "    y = df['Target']\n",
    "\n",
    "    scaler = StandardScaler()\n",
    "    X_scaled = scaler.fit_transform(X)\n",
    "\n",
    "    X_train, X_test, y_train, y_test = train_test_split(X_scaled, y, test_size=0.2, shuffle=False)\n",
    "    return X_train, X_test, y_train, y_test, scaler, features"
   ]
  },
  {
   "cell_type": "code",
   "execution_count": 5,
   "metadata": {},
   "outputs": [],
   "source": [
    "# Train a regression model\n",
    "def train_model(X_train, y_train):\n",
    "    model = RandomForestRegressor(n_estimators=100, random_state=42)\n",
    "    model.fit(X_train, y_train)\n",
    "    return model"
   ]
  },
  {
   "cell_type": "code",
   "execution_count": 6,
   "metadata": {},
   "outputs": [],
   "source": [
    "# Evaluate model performance\n",
    "def evaluate_model(model, X_test, y_test):\n",
    "    predictions = model.predict(X_test)\n",
    "    rmse = mean_squared_error(y_test, predictions, squared=False)\n",
    "    mae = mean_absolute_error(y_test, predictions)\n",
    "    print(f\"RMSE: {rmse:.2f}\")\n",
    "    print(f\"MAE: {mae:.2f}\")\n",
    "    return predictions"
   ]
  },
  {
   "cell_type": "code",
   "execution_count": 7,
   "metadata": {},
   "outputs": [],
   "source": [
    "def generate_recommendation(current_price, predicted_price, threshold=0.02):\n",
    "    change_pct = (predicted_price - current_price) / current_price\n",
    "    if change_pct > threshold:\n",
    "        return \"BUY\"\n",
    "    elif change_pct < -threshold:\n",
    "        return \"SELL\"\n",
    "    else:\n",
    "        return \"HOLD\""
   ]
  },
  {
   "cell_type": "code",
   "execution_count": 8,
   "metadata": {},
   "outputs": [],
   "source": [
    "# Main function to run the full pipeline\n",
    "def main():\n",
    "    # Load and preprocess the data\n",
    "    df = load_data(\"OHLCV_AAPL.csv\")\n",
    "    df = add_features(df)\n",
    "\n",
    "    # Prepare data for model training\n",
    "    X_train, X_test, y_train, y_test, scaler, feature_cols = prepare_data(df)\n",
    "\n",
    "    # Train the model\n",
    "    model = train_model(X_train, y_train)\n",
    "\n",
    "    # Evaluate the model\n",
    "    predictions = evaluate_model(model, X_test, y_test)\n",
    "\n",
    "    # Get the latest feature data and current close price\n",
    "    latest_data = df[feature_cols].iloc[-1:]\n",
    "    latest_scaled = scaler.transform(latest_data)\n",
    "    predicted_price = model.predict(latest_scaled)[0]\n",
    "    current_price = df['Close'].iloc[-1]\n",
    "\n",
    "    # Print prediction and recommendation\n",
    "    print(f\"Current Price: {current_price:.2f}\")\n",
    "    print(f\"Predicted Price in 5 Days: {predicted_price:.2f}\")\n",
    "    recommendation = generate_recommendation(current_price, predicted_price)\n",
    "    print(f\"Trading Recommendation: {recommendation}\")"
   ]
  },
  {
   "cell_type": "code",
   "execution_count": 9,
   "metadata": {},
   "outputs": [
    {
     "name": "stdout",
     "output_type": "stream",
     "text": [
      "RMSE: 8.47\n",
      "MAE: 7.40\n",
      "Current Price: 130.71\n",
      "Predicted Price in 5 Days: 137.76\n",
      "Trading Recommendation: BUY\n"
     ]
    }
   ],
   "source": [
    "# Run the pipeline\n",
    "if __name__ == \"__main__\":\n",
    "    main()"
   ]
  }
 ],
 "metadata": {
  "kernelspec": {
   "display_name": "Python 3",
   "language": "python",
   "name": "python3"
  },
  "language_info": {
   "codemirror_mode": {
    "name": "ipython",
    "version": 3
   },
   "file_extension": ".py",
   "mimetype": "text/x-python",
   "name": "python",
   "nbconvert_exporter": "python",
   "pygments_lexer": "ipython3",
   "version": "3.11.0"
  }
 },
 "nbformat": 4,
 "nbformat_minor": 2
}
